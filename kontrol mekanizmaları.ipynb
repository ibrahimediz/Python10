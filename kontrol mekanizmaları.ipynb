{
 "cells": [
  {
   "cell_type": "code",
   "execution_count": 1,
   "metadata": {},
   "outputs": [
    {
     "name": "stdout",
     "output_type": "stream",
     "text": [
      "Sayıyı Giriniz2\n",
      "Sayı Çiftir\n",
      "iyi günler\n"
     ]
    }
   ],
   "source": [
    "sayi = int(input(\"Sayıyı Giriniz\"))\n",
    "if sayi%2==0:\n",
    "    print(\"Sayı Çiftir\")\n",
    "else:\n",
    "    if sayi>10:\n",
    "        print(\"Sayi ondan büyüktür\")\n",
    "    else:\n",
    "        if sayi<20:\n",
    "            print(\"Sayı 20 den küçüktür\")\n",
    "    print(\"Sayı Tektir\")\n",
    "print(\"iyi günler\")"
   ]
  },
  {
   "cell_type": "markdown",
   "metadata": {},
   "source": [
    "a == b --a eşittir b\n",
    "a != b --a eşit değildir b\n",
    "a >= b --a büyük eşittir b\n",
    "a <= b --a küçük eşittir b\n",
    "a > b  --a büyüktür b \n",
    "a < b  --a küçüktür b\n",
    "a and b -- a ve b\n",
    "a or b -- a veya b\n",
    "a not b -- a değil b\n",
    "a in b -- a b'nin içinde mi\n",
    "a is b -- a b mi\n",
    "\n",
    "FF <60\n",
    "C >60 <70\n",
    "B >70 <80\n",
    "A >80 <100"
   ]
  },
  {
   "cell_type": "code",
   "execution_count": 2,
   "metadata": {},
   "outputs": [
    {
     "name": "stdout",
     "output_type": "stream",
     "text": [
      "Notunuz Giriniz75\n",
      "B\n"
     ]
    }
   ],
   "source": [
    "notu = int(input(\"Notunuz Giriniz\"))\n",
    "if notu < 60:\n",
    "    print(\"FF\")\n",
    "elif notu > 60 and notu <= 70:\n",
    "    print(\"C\")\n",
    "elif notu > 70 and notu <= 80:\n",
    "    print(\"B\")\n",
    "elif notu > 80 and notu <= 100:\n",
    "    print(\"A\")\n",
    "else:\n",
    "    print(\"Hesaplanamadı\")\n"
   ]
  },
  {
   "cell_type": "code",
   "execution_count": 7,
   "metadata": {},
   "outputs": [
    {
     "name": "stdout",
     "output_type": "stream",
     "text": [
      "Yanlış\n"
     ]
    }
   ],
   "source": [
    "a = 5\n",
    "if (a != 6 or a%2==0) and (a != 5 or not a > 2):\n",
    "    print(\"Doğru\")\n",
    "else:\n",
    "    print(\"Yanlış\")"
   ]
  },
  {
   "cell_type": "code",
   "execution_count": 11,
   "metadata": {},
   "outputs": [
    {
     "data": {
      "text/plain": [
       "16.0"
      ]
     },
     "execution_count": 11,
     "metadata": {},
     "output_type": "execute_result"
    }
   ],
   "source": [
    "8/2*(2+2)"
   ]
  },
  {
   "cell_type": "code",
   "execution_count": 18,
   "metadata": {},
   "outputs": [
    {
     "data": {
      "text/plain": [
       "False"
      ]
     },
     "execution_count": 18,
     "metadata": {},
     "output_type": "execute_result"
    }
   ],
   "source": [
    "liste = [1,2,3]\n",
    "liste2 = liste\n",
    "liste2 is not liste"
   ]
  },
  {
   "cell_type": "code",
   "execution_count": 17,
   "metadata": {},
   "outputs": [
    {
     "data": {
      "text/plain": [
       "False"
      ]
     },
     "execution_count": 17,
     "metadata": {},
     "output_type": "execute_result"
    }
   ],
   "source": [
    "liste = [1,2,3,4,5]\n",
    "1 not in liste"
   ]
  },
  {
   "cell_type": "code",
   "execution_count": 19,
   "metadata": {},
   "outputs": [
    {
     "data": {
      "text/plain": [
       "True"
      ]
     },
     "execution_count": 19,
     "metadata": {},
     "output_type": "execute_result"
    }
   ],
   "source": [
    "metin = \"BEŞİKTAŞ\"\n",
    "\"B\" in metin"
   ]
  },
  {
   "cell_type": "code",
   "execution_count": 21,
   "metadata": {},
   "outputs": [
    {
     "name": "stdout",
     "output_type": "stream",
     "text": [
      "Doğru\n"
     ]
    }
   ],
   "source": [
    "a = 1\n",
    "if a :\n",
    "    print(\"Doğru\")"
   ]
  },
  {
   "cell_type": "code",
   "execution_count": 23,
   "metadata": {},
   "outputs": [
    {
     "name": "stdout",
     "output_type": "stream",
     "text": [
      "Doğru\n"
     ]
    }
   ],
   "source": [
    "a = \"2\"\n",
    "if a:\n",
    "    print(\"Doğru\")"
   ]
  },
  {
   "cell_type": "code",
   "execution_count": 25,
   "metadata": {},
   "outputs": [
    {
     "name": "stdout",
     "output_type": "stream",
     "text": [
      "Şifre Giriniz\n",
      "Giriş Yapmadınız\n"
     ]
    }
   ],
   "source": [
    "sifre = input(\"Şifre Giriniz\")\n",
    "if sifre:\n",
    "    if sifre == \"123\":\n",
    "        print(\"Giriş Başarılı\")\n",
    "else:\n",
    "    print(\"Giriş Yapmadınız\")"
   ]
  },
  {
   "cell_type": "code",
   "execution_count": null,
   "metadata": {},
   "outputs": [],
   "source": []
  }
 ],
 "metadata": {
  "kernelspec": {
   "display_name": "Python 3",
   "language": "python",
   "name": "python3"
  },
  "language_info": {
   "codemirror_mode": {
    "name": "ipython",
    "version": 3
   },
   "file_extension": ".py",
   "mimetype": "text/x-python",
   "name": "python",
   "nbconvert_exporter": "python",
   "pygments_lexer": "ipython3",
   "version": "3.7.3"
  }
 },
 "nbformat": 4,
 "nbformat_minor": 2
}
